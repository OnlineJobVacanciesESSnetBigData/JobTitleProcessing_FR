{
 "cells": [
  {
   "cell_type": "markdown",
   "metadata": {},
   "source": [
    "## I. Cleaning\n",
    "Data are cleaned following this process:\n",
    "* lower case, delete digits and special char\n",
    "* delete stopwords\n",
    "* delete *jobwords* (eg. contract type, schedule, ..)\n",
    "* remove location such as country, departement, region"
   ]
  },
  {
   "cell_type": "code",
   "execution_count": 17,
   "metadata": {},
   "outputs": [
    {
     "data": {
      "text/plain": [
       "'ingenieur'"
      ]
     },
     "execution_count": 17,
     "metadata": {},
     "output_type": "execute_result"
    }
   ],
   "source": [
    "from job_title_processing import JobOffersTitleCleaner\n",
    "\n",
    "cleaner = JobOffersTitleCleaner(language='FR', jobword=True, location=True)\n",
    "cleaner.clean_str(\"Ingénieur à mi-temps en CDD\")"
   ]
  },
  {
   "cell_type": "markdown",
   "metadata": {},
   "source": [
    "## II. Lemmatization\n",
    "\n",
    "Lemmatizing for French language uses Morphalou ressources. You must downoad it [here](https://www.ortolang.fr/market/lexicons/morphalou/4) if you wish to use it. Additional semantic \n",
    "ressources such as matching of male/female occupation nouns and explicitation of acronyms related to\n",
    "labour are included in the package (for French).\n",
    "\n",
    "Lemmatization keeps only one occurence of each words in the title. **In the end, words order is mixed, since it doesn't matter here.**"
   ]
  },
  {
   "cell_type": "code",
   "execution_count": 20,
   "metadata": {},
   "outputs": [
    {
     "data": {
      "text/plain": [
       "'infirmier grenoble'"
      ]
     },
     "execution_count": 20,
     "metadata": {},
     "output_type": "execute_result"
    }
   ],
   "source": [
    "from job_title_processing import JobOffersTitleLemmatizer\n",
    "\n",
    "lemmatizer = JobOffersTitleLemmatizer(language='FR', cleaner=cleaner)\n",
    "lemmatizer.lemmatize_str(\"serveuse\")\n",
    "lemmatizer.lemmatize_str(\"Infirmière à mi-temps en CDD à Grenoble\")"
   ]
  },
  {
   "cell_type": "markdown",
   "metadata": {},
   "source": [
    "## III. Classification\n",
    "\n",
    "Since training data nor final French model are public so far, official occupation nomenclature can be used to train a model. ROME nomenclature must be downloaded [here](https://www.pole-emploi.org/opendata/repertoire-operationnel-des-meti.html?type=article). If you have more training data, you can add them (-> uncomment commented lines).\n",
    "\n",
    "If you have a model, please refer to the last part."
   ]
  },
  {
   "cell_type": "markdown",
   "metadata": {},
   "source": [
    "### a. Load and clean data"
   ]
  },
  {
   "cell_type": "code",
   "execution_count": 25,
   "metadata": {},
   "outputs": [
    {
     "data": {
      "text/html": [
       "<div>\n",
       "<style scoped>\n",
       "    .dataframe tbody tr th:only-of-type {\n",
       "        vertical-align: middle;\n",
       "    }\n",
       "\n",
       "    .dataframe tbody tr th {\n",
       "        vertical-align: top;\n",
       "    }\n",
       "\n",
       "    .dataframe thead th {\n",
       "        text-align: right;\n",
       "    }\n",
       "</style>\n",
       "<table border=\"1\" class=\"dataframe\">\n",
       "  <thead>\n",
       "    <tr style=\"text-align: right;\">\n",
       "      <th></th>\n",
       "      <th>ROME</th>\n",
       "      <th>title</th>\n",
       "    </tr>\n",
       "  </thead>\n",
       "  <tbody>\n",
       "    <tr>\n",
       "      <th>0</th>\n",
       "      <td>A1101</td>\n",
       "      <td>Chauffeur / Chauffeuse de machines agricoles</td>\n",
       "    </tr>\n",
       "    <tr>\n",
       "      <th>1</th>\n",
       "      <td>A1101</td>\n",
       "      <td>Conducteur / Conductrice d'abatteuses</td>\n",
       "    </tr>\n",
       "    <tr>\n",
       "      <th>2</th>\n",
       "      <td>A1101</td>\n",
       "      <td>Conducteur / Conductrice d'automoteur de récolte</td>\n",
       "    </tr>\n",
       "    <tr>\n",
       "      <th>3</th>\n",
       "      <td>A1101</td>\n",
       "      <td>Conducteur / Conductrice d'engins d'exploitati...</td>\n",
       "    </tr>\n",
       "    <tr>\n",
       "      <th>4</th>\n",
       "      <td>A1101</td>\n",
       "      <td>Conducteur / Conductrice d'engins d'exploitati...</td>\n",
       "    </tr>\n",
       "  </tbody>\n",
       "</table>\n",
       "</div>"
      ],
      "text/plain": [
       "    ROME                                              title\n",
       "0  A1101       Chauffeur / Chauffeuse de machines agricoles\n",
       "1  A1101              Conducteur / Conductrice d'abatteuses\n",
       "2  A1101   Conducteur / Conductrice d'automoteur de récolte\n",
       "3  A1101  Conducteur / Conductrice d'engins d'exploitati...\n",
       "4  A1101  Conducteur / Conductrice d'engins d'exploitati..."
      ]
     },
     "execution_count": 25,
     "metadata": {},
     "output_type": "execute_result"
    }
   ],
   "source": [
    "# Load data\n",
    "from job_title_processing.tools.occupation_nomenclature import get_labels_ROME_FR\n",
    "\n",
    "rome = get_labels_ROME_FR()\n",
    "rome.rename(columns={'titre':'title', 'ROME_code':'ROME'}, inplace=True)\n",
    "\n",
    "data = rome.copy()\n",
    "data.head(5)\n",
    "\n",
    "# # Add external data\n",
    "# import pandas as pd\n",
    "# ENCODING, SEP = 'utf-8-sig', \";\"\n",
    "\n",
    "# import os\n",
    "# from job_title_processing.tools.utils import load_root_path\n",
    "# ROOT = load_root_path()\n",
    "# data_folder = os.path.join(ROOT, \"data\", \"FR_test\") # pleas create folder if doesn't exist\n",
    "\n",
    "# file = os.path.join(data_folder, \"raw_data-poleemploi_2019-01-01_2019-12-31.csv\")\n",
    "# columns = {'intitule':'title', 'romeCode':'ROME'}\n",
    "# pole_emploi = pd.read_csv(file, encoding=ENCODING, sep=SEP, usecols=columns.keys())\n",
    "# pole_emploi.rename(columns=columns, inplace=True)\n",
    "# pole_emploi['domain'] = pole_emploi.ROME.str[0]\n",
    "\n",
    "# # Merge data\n",
    "# data = pole_emploi.append(rome, ignore_index=True)\n",
    "\n",
    "# data.head(5)"
   ]
  },
  {
   "cell_type": "code",
   "execution_count": 20,
   "metadata": {},
   "outputs": [],
   "source": [
    "# Clean data\n",
    "from job_title_processing.tools.svm_classification import split\n",
    "\n",
    "X = lemmatizer.lemmatize_series(data.title)\n",
    "Y = data.ROME\n",
    "# If you have enough data split them into train and test sets\n",
    "# X_train, X_test, Y_train, Y_test = split(X, Y, folder=data_folder) \n",
    "\n",
    "# Load saved data\n",
    "# import pickle\n",
    "# filename = os.path.join(data_folder, \"train_test.pickle\")\n",
    "# with open(filename, 'rb') as f:\n",
    "#     X_train, X_test, Y_train, Y_test =  pickle.load(f)\n",
    "#     f.close()"
   ]
  },
  {
   "cell_type": "markdown",
   "metadata": {},
   "source": [
    "### b. Train and evaluate SVM model "
   ]
  },
  {
   "cell_type": "code",
   "execution_count": 15,
   "metadata": {},
   "outputs": [],
   "source": [
    "from job_title_processing.tools.svm_classification import train_svm, predict_svm, global_metrics_svm, tokenize\n",
    "\n",
    "# Train model and save it\n",
    "data_folder = \"My_folder\"\n",
    "svm = train_svm(X, Y, folder=data_folder, filename=\"Simple_SVM.pickle\")\n",
    "\n",
    "# # Load saved model\n",
    "# file = os.path.join(data_folder, \"svm_C-1_mindf-1.pickle\")\n",
    "# with open(file, 'rb') as f:\n",
    "#     svm =  pickle.load(f)\n",
    "#     f.close()\n",
    "\n",
    "# Get global metrics at each level on test set\n",
    "Y_test, X_test = Y, X # case with no test set\n",
    "Y_pred = predict_svm(svm, X_test)\n",
    "\n",
    "print(\"****** Level 1: ROME occupation code ******\")\n",
    "global_metrics_svm(Y_test, Y_pred, level=1)\n",
    "print(\"\\n ****** Level 2: occupation group ******\\n\")\n",
    "global_metrics_svm(Y_test, Y_pred, level=2)\n",
    "print(\"\\n ****** Level 3: occupation domain ******\\n\")\n",
    "global_metrics_svm(Y_test, Y_pred, level=3)"
   ]
  },
  {
   "cell_type": "markdown",
   "metadata": {},
   "source": [
    "### c. Using pre-trained model"
   ]
  },
  {
   "cell_type": "code",
   "execution_count": 22,
   "metadata": {},
   "outputs": [],
   "source": [
    "# Get file containg models\n",
    "import os\n",
    "from job_title_processing.tools.utils import load_root_path\n",
    "\n",
    "ROOT = load_root_path()\n",
    "data_folder = os.path.join(ROOT, \"data\", \"FR\")\n",
    "svm_file = os.path.join(data_folder, \"svm_C-1_mindf-1.pickle\") # wherever is the svm model"
   ]
  },
  {
   "cell_type": "code",
   "execution_count": null,
   "metadata": {},
   "outputs": [],
   "source": [
    "# Instantiate Matcher\n",
    "from job_title_processing import JobOffersTitleOccupationMatcher\n",
    "occupation_matcher = JobOffersTitleOccupationMatcher(lemmatizer=lemmatizer, svm_model_file=svm_file)"
   ]
  },
  {
   "cell_type": "code",
   "execution_count": 23,
   "metadata": {},
   "outputs": [
    {
     "data": {
      "text/html": [
       "<div>\n",
       "<style scoped>\n",
       "    .dataframe tbody tr th:only-of-type {\n",
       "        vertical-align: middle;\n",
       "    }\n",
       "\n",
       "    .dataframe tbody tr th {\n",
       "        vertical-align: top;\n",
       "    }\n",
       "\n",
       "    .dataframe thead th {\n",
       "        text-align: right;\n",
       "    }\n",
       "</style>\n",
       "<table border=\"1\" class=\"dataframe\">\n",
       "  <thead>\n",
       "    <tr style=\"text-align: right;\">\n",
       "      <th></th>\n",
       "      <th>Job offer title</th>\n",
       "      <th>Clean and lemmatized text</th>\n",
       "      <th>ROME occupation code</th>\n",
       "      <th>ROME label</th>\n",
       "    </tr>\n",
       "  </thead>\n",
       "  <tbody>\n",
       "    <tr>\n",
       "      <th>0</th>\n",
       "      <td>serveuse restauration à lyon</td>\n",
       "      <td>restauration lyon serveur</td>\n",
       "      <td>G1803</td>\n",
       "      <td>Service en restauration</td>\n",
       "    </tr>\n",
       "  </tbody>\n",
       "</table>\n",
       "</div>"
      ],
      "text/plain": [
       "                Job offer title  Clean and lemmatized text  \\\n",
       "0  serveuse restauration à lyon  restauration lyon serveur   \n",
       "\n",
       "  ROME occupation code               ROME label  \n",
       "0                G1803  Service en restauration  "
      ]
     },
     "execution_count": 23,
     "metadata": {},
     "output_type": "execute_result"
    }
   ],
   "source": [
    "# Match a string\n",
    "occupation_matcher.match_job_title('serveuse restauration à lyon')"
   ]
  },
  {
   "cell_type": "code",
   "execution_count": 24,
   "metadata": {},
   "outputs": [
    {
     "data": {
      "text/html": [
       "<div>\n",
       "<style scoped>\n",
       "    .dataframe tbody tr th:only-of-type {\n",
       "        vertical-align: middle;\n",
       "    }\n",
       "\n",
       "    .dataframe tbody tr th {\n",
       "        vertical-align: top;\n",
       "    }\n",
       "\n",
       "    .dataframe thead th {\n",
       "        text-align: right;\n",
       "    }\n",
       "</style>\n",
       "<table border=\"1\" class=\"dataframe\">\n",
       "  <thead>\n",
       "    <tr style=\"text-align: right;\">\n",
       "      <th></th>\n",
       "      <th>Job offer title</th>\n",
       "      <th>Clean and lemmatized text</th>\n",
       "      <th>ROME occupation code</th>\n",
       "      <th>ROME label</th>\n",
       "    </tr>\n",
       "  </thead>\n",
       "  <tbody>\n",
       "    <tr>\n",
       "      <th>0</th>\n",
       "      <td>Maçon/Maçonne</td>\n",
       "      <td>macon</td>\n",
       "      <td>F1703</td>\n",
       "      <td>Maçonnerie</td>\n",
       "    </tr>\n",
       "    <tr>\n",
       "      <th>1</th>\n",
       "      <td>Ingénieur d'études en BTP</td>\n",
       "      <td>public batiment etude travail ingenieur</td>\n",
       "      <td>F1106</td>\n",
       "      <td>Ingénierie et études du BTP</td>\n",
       "    </tr>\n",
       "  </tbody>\n",
       "</table>\n",
       "</div>"
      ],
      "text/plain": [
       "             Job offer title                Clean and lemmatized text  \\\n",
       "0              Maçon/Maçonne                                    macon   \n",
       "1  Ingénieur d'études en BTP  public batiment etude travail ingenieur   \n",
       "\n",
       "  ROME occupation code                   ROME label  \n",
       "0                F1703                   Maçonnerie  \n",
       "1                F1106  Ingénierie et études du BTP  "
      ]
     },
     "execution_count": 24,
     "metadata": {},
     "output_type": "execute_result"
    }
   ],
   "source": [
    "# Match a pandas series\n",
    "import pandas as pd\n",
    "df = pd.Series([\"Maçon/Maçonne\", \"Ingénieur d'études en BTP\"])\n",
    "occupation_matcher.match_job_title(df)"
   ]
  }
 ],
 "metadata": {
  "kernelspec": {
   "display_name": "Python3 jocas",
   "language": "python",
   "name": "jocas"
  },
  "language_info": {
   "codemirror_mode": {
    "name": "ipython",
    "version": 3
   },
   "file_extension": ".py",
   "mimetype": "text/x-python",
   "name": "python",
   "nbconvert_exporter": "python",
   "pygments_lexer": "ipython3",
   "version": "3.7.1"
  }
 },
 "nbformat": 4,
 "nbformat_minor": 2
}
